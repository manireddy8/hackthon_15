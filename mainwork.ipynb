{
 "cells": [
  {
   "cell_type": "markdown",
   "id": "c3e4f7fa-3020-4527-9d83-983710d6b4bc",
   "metadata": {},
   "source": [
    "# Best Performing Student Recognition System"
   ]
  },
  {
   "cell_type": "raw",
   "id": "57211ce7-5922-4b9d-ad75-01b1e2623958",
   "metadata": {},
   "source": [
    "The \"Best Performing Student Recognition System\" is a useful tool for quickly analyzing student performance data and identifying top performers based on academic and extracurricular attributes.It provides an easy-to-use interface for users to upload data and receive immediate results, making it ideal for institutions and educators aiming to recognize and reward student excellence."
   ]
  },
  {
   "cell_type": "markdown",
   "id": "ff02aad0-0f28-4106-b75d-23874d705071",
   "metadata": {},
   "source": [
    "# Application Interface and Output Description:"
   ]
  },
  {
   "cell_type": "raw",
   "id": "aa8b5c33-29f7-442e-8d1f-10a268382e1e",
   "metadata": {},
   "source": [
    "User Interface: The application features a clean and intuitive user interface:\n",
    "A button labeled \"Upload CSV File\" allows users to select the dataset they wish to process.\n",
    "After processing, the results are displayed in the main window, listing the top 3 students along with their predicted scores"
   ]
  },
  {
   "cell_type": "code",
   "execution_count": 1,
   "id": "50bda4cc-f70c-4434-99c9-6a7694c3ff1c",
   "metadata": {},
   "outputs": [],
   "source": [
    "import pandas as pd\n",
    "from sklearn.preprocessing import StandardScaler\n",
    "from sklearn.linear_model import LinearRegression\n",
    "import numpy as np\n",
    "import tkinter as tk\n",
    "from tkinter import filedialog, messagebox\n",
    "from tkinter import ttk"
   ]
  },
  {
   "cell_type": "code",
   "execution_count": 2,
   "id": "b32d62ab-b7b2-489e-ba89-03bdd7554dfa",
   "metadata": {},
   "outputs": [],
   "source": [
    "# Function to load data from a CSV file\n",
    "def load_data(file_path):\n",
    "    df = pd.read_csv(file_path)\n",
    "    return df"
   ]
  },
  {
   "cell_type": "code",
   "execution_count": 5,
   "id": "c8cb32e8-6822-424d-ae40-f324b5a65a81",
   "metadata": {},
   "outputs": [],
   "source": [
    "# Function to calculate scores based on given features\n",
    "def calculate_scores(df):\n",
    "    # Define features for the model\n",
    "    features = ['gpa_sem1', 'gpa_sem2', 'core_courses_avg', 'hackathons', 'papers_presented', 'assistance_hours']\n",
    "    \n",
    "    # Standardize the features\n",
    "    scaler = StandardScaler()\n",
    "    features_scaled = scaler.fit_transform(df[features])\n",
    "    \n",
    "    # Create a Linear Regression model\n",
    "    model = LinearRegression()\n",
    "    \n",
    "    # Simulated contribution scores for training the model\n",
    "    np.random.seed(0)  # For reproducibility\n",
    "    contribution_scores = np.random.rand(len(df)) * 100  # Random scores between 0 and 100\n",
    "    \n",
    "    # Train the model\n",
    "    model.fit(features_scaled, contribution_scores)\n",
    "\n",
    "    # Predict scores for each student\n",
    "    df['predicted_score'] = model.predict(features_scaled)\n",
    "\n",
    "    return df"
   ]
  },
  {
   "cell_type": "code",
   "execution_count": null,
   "id": "2a68bdfb-61ed-4988-aea8-108e7a17285f",
   "metadata": {},
   "outputs": [],
   "source": []
  },
  {
   "cell_type": "code",
   "execution_count": 7,
   "id": "8d49bbdd-e222-424b-96e4-7f96613ce4df",
   "metadata": {},
   "outputs": [],
   "source": [
    "# Function to get the top 3 students for each year\n",
    "def get_top_students(df):\n",
    "    top_students_by_year = df.groupby('year').apply(lambda x: x.nlargest(3, 'predicted_score')).reset_index(drop=True)\n",
    "    return top_students_by_year[['year', 'student_id', 'predicted_score']]\n"
   ]
  },
  {
   "cell_type": "code",
   "execution_count": 9,
   "id": "2be8f1bd-d32e-4b00-9a4c-04afdfbd8084",
   "metadata": {},
   "outputs": [],
   "source": [
    "# Function to handle the file upload and process\n",
    "def process_csv():\n",
    "    file_path = filedialog.askopenfilename(title=\"Select CSV File\", filetypes=[(\"CSV Files\", \"*.csv\")])\n",
    "    if file_path:\n",
    "        try:\n",
    "            df = load_data(file_path)\n",
    "            df_with_scores = calculate_scores(df)\n",
    "            top_students = get_top_students(df_with_scores)\n",
    "            display_top_students(top_students)\n",
    "        except Exception as e:\n",
    "            messagebox.showerror(\"Error\", f\"Failed to process file: {e}\")"
   ]
  },
  {
   "cell_type": "code",
   "execution_count": 11,
   "id": "2bf22511-5529-4706-9643-d978a461ae9f",
   "metadata": {},
   "outputs": [],
   "source": [
    "# Function to display the top students\n",
    "def display_top_students(top_students):\n",
    "    result_text.delete(1.0, tk.END)  # Clear previous results\n",
    "    for year, group in top_students.groupby('year'):\n",
    "        result_text.insert(tk.END, f\"\\nYear: {year}\\n\")\n",
    "        for i, (student_id, score) in enumerate(zip(group['student_id'], group['predicted_score']), start=1):\n",
    "            result_text.insert(tk.END, f\"{i}. Student ID: {student_id}, Predicted Score: {score:.2f}\\n\")\n"
   ]
  },
  {
   "cell_type": "code",
   "execution_count": 13,
   "id": "2d7df34c-105f-43ff-a095-f09cf30bc46c",
   "metadata": {},
   "outputs": [],
   "source": [
    "# Create the main application window\n",
    "app = tk.Tk()\n",
    "app.title(\"Best Performing Student Recognition System\")\n",
    "app.geometry(\"600x500\")\n",
    "app.configure(bg=\"#f0f0f0\")\n"
   ]
  },
  {
   "cell_type": "code",
   "execution_count": 15,
   "id": "8d8c6ea4-e575-433d-b1e0-c1112d6444c6",
   "metadata": {},
   "outputs": [],
   "source": [
    "# Create a frame for the content\n",
    "frame = tk.Frame(app, bg=\"#90EE90\", padx=20, pady=20)\n",
    "frame.pack(padx=10, pady=10, fill=tk.BOTH, expand=True)\n"
   ]
  },
  {
   "cell_type": "code",
   "execution_count": 17,
   "id": "30c6679f-0dbe-467c-95af-59ee0c64bc7d",
   "metadata": {},
   "outputs": [],
   "source": [
    "# Title label\n",
    "title_label = tk.Label(frame, text=\"Best Performing Students\", font=(\"Arial\", 18, \"bold\"), bg=\"#90EE90\")\n",
    "title_label.pack(pady=10)"
   ]
  },
  {
   "cell_type": "code",
   "execution_count": 19,
   "id": "16ece303-294c-498d-8a52-4577b360b273",
   "metadata": {},
   "outputs": [],
   "source": [
    "# Create and place the upload button\n",
    "upload_button = ttk.Button(frame, text=\"Upload CSV File\", command=process_csv)\n",
    "upload_button.pack(pady=20)"
   ]
  },
  {
   "cell_type": "code",
   "execution_count": 21,
   "id": "01e9f5f7-186e-4c69-a0ac-3e6dcd4b2bba",
   "metadata": {},
   "outputs": [],
   "source": [
    "# Create a Text widget to display the result\n",
    "result_text = tk.Text(frame, wrap=tk.WORD, font=(\"Arial\", 12), bg=\"#ffffff\", height=15)\n",
    "result_text.pack(pady=10, fill=tk.BOTH, expand=True)\n"
   ]
  },
  {
   "cell_type": "code",
   "execution_count": 23,
   "id": "750fceac-5dae-4d47-bf83-6e82d5c3dc7f",
   "metadata": {},
   "outputs": [],
   "source": [
    "# Add a scrollbar to the Text widget\n",
    "scrollbar = ttk.Scrollbar(frame, orient=\"vertical\", command=result_text.yview)\n",
    "result_text['yscrollcommand'] = scrollbar.set\n",
    "scrollbar.pack(side=tk.RIGHT, fill=tk.Y)"
   ]
  },
  {
   "cell_type": "code",
   "execution_count": 25,
   "id": "22a1a2e3-cc98-4242-a4cb-8c26ecfab905",
   "metadata": {},
   "outputs": [
    {
     "name": "stderr",
     "output_type": "stream",
     "text": [
      "C:\\Users\\madhu\\AppData\\Local\\Temp\\ipykernel_1680\\179653168.py:3: DeprecationWarning: DataFrameGroupBy.apply operated on the grouping columns. This behavior is deprecated, and in a future version of pandas the grouping columns will be excluded from the operation. Either pass `include_groups=False` to exclude the groupings or explicitly select the grouping columns after groupby to silence this warning.\n",
      "  top_students_by_year = df.groupby('year').apply(lambda x: x.nlargest(3, 'predicted_score')).reset_index(drop=True)\n"
     ]
    }
   ],
   "source": [
    "# Run the application\n",
    "app.mainloop()"
   ]
  },
  {
   "cell_type": "code",
   "execution_count": null,
   "id": "c11953c4-6398-4f12-896c-c2e3874719de",
   "metadata": {},
   "outputs": [],
   "source": []
  }
 ],
 "metadata": {
  "kernelspec": {
   "display_name": "Python 3 (ipykernel)",
   "language": "python",
   "name": "python3"
  },
  "language_info": {
   "codemirror_mode": {
    "name": "ipython",
    "version": 3
   },
   "file_extension": ".py",
   "mimetype": "text/x-python",
   "name": "python",
   "nbconvert_exporter": "python",
   "pygments_lexer": "ipython3",
   "version": "3.12.4"
  }
 },
 "nbformat": 4,
 "nbformat_minor": 5
}
